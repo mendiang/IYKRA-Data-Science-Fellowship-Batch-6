{
  "nbformat": 4,
  "nbformat_minor": 0,
  "metadata": {
    "colab": {
      "name": "Python_Practice_IYKRA.ipynb",
      "provenance": [],
      "authorship_tag": "ABX9TyPczqLkduEH+46RUgBvmFWC",
      "include_colab_link": true
    },
    "kernelspec": {
      "name": "python3",
      "display_name": "Python 3"
    },
    "language_info": {
      "name": "python"
    }
  },
  "cells": [
    {
      "cell_type": "markdown",
      "metadata": {
        "id": "view-in-github",
        "colab_type": "text"
      },
      "source": [
        "<a href=\"https://colab.research.google.com/github/mendiang/IYKRA-Data-Science-Fellowship-Batch-6/blob/main/Python_Practice_IYKRA.ipynb\" target=\"_parent\"><img src=\"https://colab.research.google.com/assets/colab-badge.svg\" alt=\"Open In Colab\"/></a>"
      ]
    },
    {
      "cell_type": "markdown",
      "metadata": {
        "id": "M0NzsIiQibWD"
      },
      "source": [
        "##CASE 1"
      ]
    },
    {
      "cell_type": "code",
      "metadata": {
        "id": "n3I7FTJ9mvat"
      },
      "source": [
        "import pandas as pd\n",
        "import sqlite3 as sql"
      ],
      "execution_count": 2,
      "outputs": []
    },
    {
      "cell_type": "code",
      "metadata": {
        "id": "2BRaDVSnQK9J"
      },
      "source": [
        "def create_database_transaction(data):\n",
        "    con = sql.connect(data)\n",
        "    cursor = con.cursor()\n",
        "    cursor.execute(\"\"\"CREATE TABLE IF NOT EXISTS transactions( id UUID,\n",
        "                                                               insert_time TIMESTAMP,\n",
        "                                                               tx_amount FLOAT,\n",
        "                                                               tx_type TEXT,\n",
        "                                                               status STRING)\"\"\")\n",
        "    con.commit()\n",
        "\n",
        "def update_transaction(data):\n",
        "    con = sql.connect(data)\n",
        "    cursor = con.cursor()\n",
        "    sqlite_insert_query = \"\"\"INSERT INTO transactions\n",
        "    (id, insert_time, tx_amount, tx_type, status)\n",
        "    VALUES (?, ?, ?, ?, ?)\"\"\"\n",
        "\n",
        "    transaction_list = [(1, '2021-06-29 02:30:31', 10, 'sell', 'open'),\n",
        "                        (1, '2021-06-29 02:33:00', 10, 'buy', 'closed'),\n",
        "                        (3, '2021-06-29 02:45:41', 8, 'sell', 'open'),\n",
        "                        (4, '2021-06-29 03:30:03', 12, 'sell', 'open'),\n",
        "                        (5, '2021-06-29 03:10:22', 16, 'buy', 'open'),\n",
        "                        (6, '2021-06-29 04:00:15', 20, 'sell', 'open'),\n",
        "                        (4, '2021-06-29 06:20:37', 10, 'sell', 'open'),\n",
        "                        (8, '2021-06-29 07:25:35', 20, 'buy', 'open'),\n",
        "                        (9, '2021-06-29 09:02:12', 10, 'buy', 'closed'),\n",
        "                        (8, '2021-06-29 10:51:33', 15, 'sell', 'open')]\n",
        "\n",
        "    cursor.executemany(sqlite_insert_query, transaction_list)\n",
        "\n",
        "    # Query for deleting duplicates\n",
        "    cursor.execute(\"\"\"DELETE FROM transactions\n",
        "                      WHERE insert_time NOT IN\n",
        "                      (SELECT MAX(insert_time)\n",
        "                      FROM transactions \n",
        "                      GROUP BY id)\"\"\") \n",
        "    \n",
        "    con.commit()\n",
        " \n",
        "def view_transaction(data):\n",
        "    update_transaction(data)\n",
        "    con = sql.connect(data)\n",
        "    transaction = pd.read_sql_query('SELECT * FROM transactions', con)\n",
        "    return transaction\n",
        "\n"
      ],
      "execution_count": 16,
      "outputs": []
    },
    {
      "cell_type": "code",
      "metadata": {
        "id": "6G7edio9QPAZ"
      },
      "source": [
        "create_database_transaction('transaction.db')"
      ],
      "execution_count": 17,
      "outputs": []
    },
    {
      "cell_type": "code",
      "metadata": {
        "colab": {
          "base_uri": "https://localhost:8080/",
          "height": 266
        },
        "id": "abz4GUqZQQRA",
        "outputId": "1d5b95c1-5dee-4864-ee06-852a9abd89c0"
      },
      "source": [
        "view_transaction('transaction.db')"
      ],
      "execution_count": 18,
      "outputs": [
        {
          "output_type": "execute_result",
          "data": {
            "text/html": [
              "<div>\n",
              "<style scoped>\n",
              "    .dataframe tbody tr th:only-of-type {\n",
              "        vertical-align: middle;\n",
              "    }\n",
              "\n",
              "    .dataframe tbody tr th {\n",
              "        vertical-align: top;\n",
              "    }\n",
              "\n",
              "    .dataframe thead th {\n",
              "        text-align: right;\n",
              "    }\n",
              "</style>\n",
              "<table border=\"1\" class=\"dataframe\">\n",
              "  <thead>\n",
              "    <tr style=\"text-align: right;\">\n",
              "      <th></th>\n",
              "      <th>id</th>\n",
              "      <th>insert_time</th>\n",
              "      <th>tx_amount</th>\n",
              "      <th>tx_type</th>\n",
              "      <th>status</th>\n",
              "    </tr>\n",
              "  </thead>\n",
              "  <tbody>\n",
              "    <tr>\n",
              "      <th>0</th>\n",
              "      <td>1</td>\n",
              "      <td>2021-06-29 02:33:00</td>\n",
              "      <td>10.0</td>\n",
              "      <td>buy</td>\n",
              "      <td>closed</td>\n",
              "    </tr>\n",
              "    <tr>\n",
              "      <th>1</th>\n",
              "      <td>3</td>\n",
              "      <td>2021-06-29 02:45:41</td>\n",
              "      <td>8.0</td>\n",
              "      <td>sell</td>\n",
              "      <td>open</td>\n",
              "    </tr>\n",
              "    <tr>\n",
              "      <th>2</th>\n",
              "      <td>5</td>\n",
              "      <td>2021-06-29 03:10:22</td>\n",
              "      <td>16.0</td>\n",
              "      <td>buy</td>\n",
              "      <td>open</td>\n",
              "    </tr>\n",
              "    <tr>\n",
              "      <th>3</th>\n",
              "      <td>6</td>\n",
              "      <td>2021-06-29 04:00:15</td>\n",
              "      <td>20.0</td>\n",
              "      <td>sell</td>\n",
              "      <td>open</td>\n",
              "    </tr>\n",
              "    <tr>\n",
              "      <th>4</th>\n",
              "      <td>4</td>\n",
              "      <td>2021-06-29 06:20:37</td>\n",
              "      <td>10.0</td>\n",
              "      <td>sell</td>\n",
              "      <td>open</td>\n",
              "    </tr>\n",
              "    <tr>\n",
              "      <th>5</th>\n",
              "      <td>9</td>\n",
              "      <td>2021-06-29 09:02:12</td>\n",
              "      <td>10.0</td>\n",
              "      <td>buy</td>\n",
              "      <td>closed</td>\n",
              "    </tr>\n",
              "    <tr>\n",
              "      <th>6</th>\n",
              "      <td>8</td>\n",
              "      <td>2021-06-29 10:51:33</td>\n",
              "      <td>15.0</td>\n",
              "      <td>sell</td>\n",
              "      <td>open</td>\n",
              "    </tr>\n",
              "  </tbody>\n",
              "</table>\n",
              "</div>"
            ],
            "text/plain": [
              "   id          insert_time  tx_amount tx_type  status\n",
              "0   1  2021-06-29 02:33:00       10.0     buy  closed\n",
              "1   3  2021-06-29 02:45:41        8.0    sell    open\n",
              "2   5  2021-06-29 03:10:22       16.0     buy    open\n",
              "3   6  2021-06-29 04:00:15       20.0    sell    open\n",
              "4   4  2021-06-29 06:20:37       10.0    sell    open\n",
              "5   9  2021-06-29 09:02:12       10.0     buy  closed\n",
              "6   8  2021-06-29 10:51:33       15.0    sell    open"
            ]
          },
          "metadata": {
            "tags": []
          },
          "execution_count": 18
        }
      ]
    },
    {
      "cell_type": "markdown",
      "metadata": {
        "id": "XOxT2eVxix83"
      },
      "source": [
        "##CASE 2\n"
      ]
    },
    {
      "cell_type": "code",
      "metadata": {
        "id": "IdLM0ot3jHt_"
      },
      "source": [
        "con = sql.connect('transaction.db')\n",
        "cursor = con.cursor()"
      ],
      "execution_count": 8,
      "outputs": []
    },
    {
      "cell_type": "code",
      "metadata": {
        "colab": {
          "base_uri": "https://localhost:8080/",
          "height": 0
        },
        "id": "4WYQaOm2jP8O",
        "outputId": "9aacb650-3e08-4cd4-badb-15124e7b026e"
      },
      "source": [
        "cursor.execute('''CREATE TABLE IF NOT EXISTS sales\n",
        "(Date DATE, Sales INT)''')"
      ],
      "execution_count": 9,
      "outputs": [
        {
          "output_type": "execute_result",
          "data": {
            "text/plain": [
              "<sqlite3.Cursor at 0x7f634d7eddc0>"
            ]
          },
          "metadata": {
            "tags": []
          },
          "execution_count": 9
        }
      ]
    },
    {
      "cell_type": "code",
      "metadata": {
        "id": "tHXs3BvijWKs"
      },
      "source": [
        "# insert values into table\n",
        "sales_values = [('2021-01-01', 100),\n",
        "                ('2021-01-02', 34),\n",
        "                ('2021-01-02', 123),\n",
        "                ('2021-01-02', 134),\n",
        "                ('2021-01-03', 145),\n",
        "                ('2021-01-03', 24),\n",
        "                ('2021-01-04', 541),\n",
        "                ('2021-01-04', 636),\n",
        "                ('2021-01-05', 322),\n",
        "                ('2021-01-06', 242),\n",
        "                ('2021-01-07', 22),\n",
        "                ('2021-01-08', 46),]\n",
        "\n",
        "cursor.executemany('''INSERT INTO sales values (?,?)''', sales_values)\n",
        "\n",
        "con.commit()"
      ],
      "execution_count": 10,
      "outputs": []
    },
    {
      "cell_type": "code",
      "metadata": {
        "id": "NSGoRm9Wjoq5"
      },
      "source": [
        "sales_view = pd.read_sql_query(\n",
        "             'SELECT Date, sum(Sales) as Total_Sales FROM sales GROUP BY Date', con)"
      ],
      "execution_count": 20,
      "outputs": []
    },
    {
      "cell_type": "code",
      "metadata": {
        "colab": {
          "base_uri": "https://localhost:8080/",
          "height": 297
        },
        "id": "g1blAUhwpIat",
        "outputId": "27488acd-88dc-42f5-f776-7ae4c8ed8c29"
      },
      "source": [
        "sales_view"
      ],
      "execution_count": 21,
      "outputs": [
        {
          "output_type": "execute_result",
          "data": {
            "text/html": [
              "<div>\n",
              "<style scoped>\n",
              "    .dataframe tbody tr th:only-of-type {\n",
              "        vertical-align: middle;\n",
              "    }\n",
              "\n",
              "    .dataframe tbody tr th {\n",
              "        vertical-align: top;\n",
              "    }\n",
              "\n",
              "    .dataframe thead th {\n",
              "        text-align: right;\n",
              "    }\n",
              "</style>\n",
              "<table border=\"1\" class=\"dataframe\">\n",
              "  <thead>\n",
              "    <tr style=\"text-align: right;\">\n",
              "      <th></th>\n",
              "      <th>Date</th>\n",
              "      <th>Total_Sales</th>\n",
              "    </tr>\n",
              "  </thead>\n",
              "  <tbody>\n",
              "    <tr>\n",
              "      <th>0</th>\n",
              "      <td>2021-01-01</td>\n",
              "      <td>100</td>\n",
              "    </tr>\n",
              "    <tr>\n",
              "      <th>1</th>\n",
              "      <td>2021-01-02</td>\n",
              "      <td>291</td>\n",
              "    </tr>\n",
              "    <tr>\n",
              "      <th>2</th>\n",
              "      <td>2021-01-03</td>\n",
              "      <td>169</td>\n",
              "    </tr>\n",
              "    <tr>\n",
              "      <th>3</th>\n",
              "      <td>2021-01-04</td>\n",
              "      <td>1177</td>\n",
              "    </tr>\n",
              "    <tr>\n",
              "      <th>4</th>\n",
              "      <td>2021-01-05</td>\n",
              "      <td>322</td>\n",
              "    </tr>\n",
              "    <tr>\n",
              "      <th>5</th>\n",
              "      <td>2021-01-06</td>\n",
              "      <td>242</td>\n",
              "    </tr>\n",
              "    <tr>\n",
              "      <th>6</th>\n",
              "      <td>2021-01-07</td>\n",
              "      <td>22</td>\n",
              "    </tr>\n",
              "    <tr>\n",
              "      <th>7</th>\n",
              "      <td>2021-01-08</td>\n",
              "      <td>46</td>\n",
              "    </tr>\n",
              "  </tbody>\n",
              "</table>\n",
              "</div>"
            ],
            "text/plain": [
              "         Date  Total_Sales\n",
              "0  2021-01-01          100\n",
              "1  2021-01-02          291\n",
              "2  2021-01-03          169\n",
              "3  2021-01-04         1177\n",
              "4  2021-01-05          322\n",
              "5  2021-01-06          242\n",
              "6  2021-01-07           22\n",
              "7  2021-01-08           46"
            ]
          },
          "metadata": {
            "tags": []
          },
          "execution_count": 21
        }
      ]
    },
    {
      "cell_type": "markdown",
      "metadata": {
        "id": "mf5Kl33prTNz"
      },
      "source": [
        "##CASE 3\n"
      ]
    },
    {
      "cell_type": "code",
      "metadata": {
        "id": "fN7LD3d5rWQW"
      },
      "source": [
        "datasets = [\n",
        "   {\n",
        "       \"user\": {\n",
        "           \"id\": 1,\n",
        "           \"name\": \"agus\",\n",
        "           \"email\": \"agus@example.com\"\n",
        "       },\n",
        "       \"txs\": [\n",
        "           {\n",
        "               \"id\": 1,\n",
        "               \"tx_date\": \"2020-01-01\",\n",
        "               \"tx_amount\": 10,\n",
        "               \"tx_type\": \"buy\"\n",
        "           },\n",
        "           {\n",
        "               \"id\": 3,\n",
        "               \"tx_date\": \"2020-02-01\",\n",
        "               \"tx_amount\": 10,\n",
        "               \"tx_type\": \"buy\"\n",
        "           },\n",
        "           {\n",
        "               \"id\": 5,\n",
        "               \"tx_date\": \"2020-03-01\",\n",
        "               \"tx_amount\": 20,\n",
        "               \"tx_type\": \"sell\"\n",
        "           }\n",
        "       ]\n",
        "   },\n",
        "   {\n",
        "       \"user\": {\n",
        "           \"id\": 2,\n",
        "           \"name\": \"asep\",\n",
        "           \"email\": \"asep@example.com\"\n",
        "       },\n",
        "       \"txs\": [\n",
        "           {\n",
        "               \"id\": 2,\n",
        "               \"tx_date\": \"2020-01-01\",\n",
        "               \"tx_amount\": 10,\n",
        "               \"tx_type\": \"sell\"\n",
        "           },\n",
        "            {\n",
        "               \"id\": 4,\n",
        "               \"tx_date\": \"2020-02-01\",\n",
        "               \"tx_amount\": 10,\n",
        "               \"tx_type\": \"sell\"\n",
        "           },\n",
        "           {\n",
        "               \"id\": 6,\n",
        "               \"tx_date\": \"2020-03-01\",\n",
        "               \"tx_amount\": 20,\n",
        "               \"tx_type\": \"buy\"\n",
        "           }\n",
        "       ]\n",
        "   }\n",
        "] "
      ],
      "execution_count": 24,
      "outputs": []
    },
    {
      "cell_type": "code",
      "metadata": {
        "colab": {
          "base_uri": "https://localhost:8080/",
          "height": 0
        },
        "id": "3tIfNEyvspHt",
        "outputId": "0cddbffb-c6f1-4e9f-81e8-586cceb51af9"
      },
      "source": [
        "datasets"
      ],
      "execution_count": 25,
      "outputs": [
        {
          "output_type": "execute_result",
          "data": {
            "text/plain": [
              "[{'txs': [{'id': 1,\n",
              "    'tx_amount': 10,\n",
              "    'tx_date': '2020-01-01',\n",
              "    'tx_type': 'buy'},\n",
              "   {'id': 3, 'tx_amount': 10, 'tx_date': '2020-02-01', 'tx_type': 'buy'},\n",
              "   {'id': 5, 'tx_amount': 20, 'tx_date': '2020-03-01', 'tx_type': 'sell'}],\n",
              "  'user': {'email': 'agus@example.com', 'id': 1, 'name': 'agus'}},\n",
              " {'txs': [{'id': 2,\n",
              "    'tx_amount': 10,\n",
              "    'tx_date': '2020-01-01',\n",
              "    'tx_type': 'sell'},\n",
              "   {'id': 4, 'tx_amount': 10, 'tx_date': '2020-02-01', 'tx_type': 'sell'},\n",
              "   {'id': 6, 'tx_amount': 20, 'tx_date': '2020-03-01', 'tx_type': 'buy'}],\n",
              "  'user': {'email': 'asep@example.com', 'id': 2, 'name': 'asep'}}]"
            ]
          },
          "metadata": {
            "tags": []
          },
          "execution_count": 25
        }
      ]
    },
    {
      "cell_type": "code",
      "metadata": {
        "id": "7N7qiAjRs5i0"
      },
      "source": [
        "transaction_list = pd.json_normalize(datasets, 'txs',[['user','id'],['user','name'],['user','email']],errors='ignore')"
      ],
      "execution_count": 28,
      "outputs": []
    },
    {
      "cell_type": "code",
      "metadata": {
        "colab": {
          "base_uri": "https://localhost:8080/",
          "height": 235
        },
        "id": "AtpYSLEowm6s",
        "outputId": "207ffa71-9d60-485b-c6fa-4a3255f21fa5"
      },
      "source": [
        "transaction_list"
      ],
      "execution_count": 29,
      "outputs": [
        {
          "output_type": "execute_result",
          "data": {
            "text/html": [
              "<div>\n",
              "<style scoped>\n",
              "    .dataframe tbody tr th:only-of-type {\n",
              "        vertical-align: middle;\n",
              "    }\n",
              "\n",
              "    .dataframe tbody tr th {\n",
              "        vertical-align: top;\n",
              "    }\n",
              "\n",
              "    .dataframe thead th {\n",
              "        text-align: right;\n",
              "    }\n",
              "</style>\n",
              "<table border=\"1\" class=\"dataframe\">\n",
              "  <thead>\n",
              "    <tr style=\"text-align: right;\">\n",
              "      <th></th>\n",
              "      <th>id</th>\n",
              "      <th>tx_date</th>\n",
              "      <th>tx_amount</th>\n",
              "      <th>tx_type</th>\n",
              "      <th>user.id</th>\n",
              "      <th>user.name</th>\n",
              "      <th>user.email</th>\n",
              "    </tr>\n",
              "  </thead>\n",
              "  <tbody>\n",
              "    <tr>\n",
              "      <th>0</th>\n",
              "      <td>1</td>\n",
              "      <td>2020-01-01</td>\n",
              "      <td>10</td>\n",
              "      <td>buy</td>\n",
              "      <td>1</td>\n",
              "      <td>agus</td>\n",
              "      <td>agus@example.com</td>\n",
              "    </tr>\n",
              "    <tr>\n",
              "      <th>1</th>\n",
              "      <td>3</td>\n",
              "      <td>2020-02-01</td>\n",
              "      <td>10</td>\n",
              "      <td>buy</td>\n",
              "      <td>1</td>\n",
              "      <td>agus</td>\n",
              "      <td>agus@example.com</td>\n",
              "    </tr>\n",
              "    <tr>\n",
              "      <th>2</th>\n",
              "      <td>5</td>\n",
              "      <td>2020-03-01</td>\n",
              "      <td>20</td>\n",
              "      <td>sell</td>\n",
              "      <td>1</td>\n",
              "      <td>agus</td>\n",
              "      <td>agus@example.com</td>\n",
              "    </tr>\n",
              "    <tr>\n",
              "      <th>3</th>\n",
              "      <td>2</td>\n",
              "      <td>2020-01-01</td>\n",
              "      <td>10</td>\n",
              "      <td>sell</td>\n",
              "      <td>2</td>\n",
              "      <td>asep</td>\n",
              "      <td>asep@example.com</td>\n",
              "    </tr>\n",
              "    <tr>\n",
              "      <th>4</th>\n",
              "      <td>4</td>\n",
              "      <td>2020-02-01</td>\n",
              "      <td>10</td>\n",
              "      <td>sell</td>\n",
              "      <td>2</td>\n",
              "      <td>asep</td>\n",
              "      <td>asep@example.com</td>\n",
              "    </tr>\n",
              "    <tr>\n",
              "      <th>5</th>\n",
              "      <td>6</td>\n",
              "      <td>2020-03-01</td>\n",
              "      <td>20</td>\n",
              "      <td>buy</td>\n",
              "      <td>2</td>\n",
              "      <td>asep</td>\n",
              "      <td>asep@example.com</td>\n",
              "    </tr>\n",
              "  </tbody>\n",
              "</table>\n",
              "</div>"
            ],
            "text/plain": [
              "   id     tx_date  tx_amount tx_type user.id user.name        user.email\n",
              "0   1  2020-01-01         10     buy       1      agus  agus@example.com\n",
              "1   3  2020-02-01         10     buy       1      agus  agus@example.com\n",
              "2   5  2020-03-01         20    sell       1      agus  agus@example.com\n",
              "3   2  2020-01-01         10    sell       2      asep  asep@example.com\n",
              "4   4  2020-02-01         10    sell       2      asep  asep@example.com\n",
              "5   6  2020-03-01         20     buy       2      asep  asep@example.com"
            ]
          },
          "metadata": {
            "tags": []
          },
          "execution_count": 29
        }
      ]
    },
    {
      "cell_type": "code",
      "metadata": {
        "id": "BKFzCIpVxAMq"
      },
      "source": [
        "csv_1 = transaction_list[['user.id','id']]"
      ],
      "execution_count": 30,
      "outputs": []
    },
    {
      "cell_type": "code",
      "metadata": {
        "colab": {
          "base_uri": "https://localhost:8080/",
          "height": 235
        },
        "id": "yjCc4wKPxByQ",
        "outputId": "7bbb8231-ccde-486a-afb5-b25246a429d8"
      },
      "source": [
        "csv_1"
      ],
      "execution_count": 31,
      "outputs": [
        {
          "output_type": "execute_result",
          "data": {
            "text/html": [
              "<div>\n",
              "<style scoped>\n",
              "    .dataframe tbody tr th:only-of-type {\n",
              "        vertical-align: middle;\n",
              "    }\n",
              "\n",
              "    .dataframe tbody tr th {\n",
              "        vertical-align: top;\n",
              "    }\n",
              "\n",
              "    .dataframe thead th {\n",
              "        text-align: right;\n",
              "    }\n",
              "</style>\n",
              "<table border=\"1\" class=\"dataframe\">\n",
              "  <thead>\n",
              "    <tr style=\"text-align: right;\">\n",
              "      <th></th>\n",
              "      <th>user.id</th>\n",
              "      <th>id</th>\n",
              "    </tr>\n",
              "  </thead>\n",
              "  <tbody>\n",
              "    <tr>\n",
              "      <th>0</th>\n",
              "      <td>1</td>\n",
              "      <td>1</td>\n",
              "    </tr>\n",
              "    <tr>\n",
              "      <th>1</th>\n",
              "      <td>1</td>\n",
              "      <td>3</td>\n",
              "    </tr>\n",
              "    <tr>\n",
              "      <th>2</th>\n",
              "      <td>1</td>\n",
              "      <td>5</td>\n",
              "    </tr>\n",
              "    <tr>\n",
              "      <th>3</th>\n",
              "      <td>2</td>\n",
              "      <td>2</td>\n",
              "    </tr>\n",
              "    <tr>\n",
              "      <th>4</th>\n",
              "      <td>2</td>\n",
              "      <td>4</td>\n",
              "    </tr>\n",
              "    <tr>\n",
              "      <th>5</th>\n",
              "      <td>2</td>\n",
              "      <td>6</td>\n",
              "    </tr>\n",
              "  </tbody>\n",
              "</table>\n",
              "</div>"
            ],
            "text/plain": [
              "  user.id  id\n",
              "0       1   1\n",
              "1       1   3\n",
              "2       1   5\n",
              "3       2   2\n",
              "4       2   4\n",
              "5       2   6"
            ]
          },
          "metadata": {
            "tags": []
          },
          "execution_count": 31
        }
      ]
    },
    {
      "cell_type": "code",
      "metadata": {
        "id": "ElsQ_864xFrK"
      },
      "source": [
        "csv_1_file = csv_1.to_csv('csv_1')"
      ],
      "execution_count": 32,
      "outputs": []
    },
    {
      "cell_type": "code",
      "metadata": {
        "id": "j8iEcJlexRnU"
      },
      "source": [
        "csv_2 = transaction_list[['user.id','user.name', 'user.email']]"
      ],
      "execution_count": 33,
      "outputs": []
    },
    {
      "cell_type": "code",
      "metadata": {
        "colab": {
          "base_uri": "https://localhost:8080/",
          "height": 235
        },
        "id": "JJhT_0hixZNZ",
        "outputId": "d7af53af-229f-4b8f-ea8c-a9e9140217dd"
      },
      "source": [
        "csv_2"
      ],
      "execution_count": 34,
      "outputs": [
        {
          "output_type": "execute_result",
          "data": {
            "text/html": [
              "<div>\n",
              "<style scoped>\n",
              "    .dataframe tbody tr th:only-of-type {\n",
              "        vertical-align: middle;\n",
              "    }\n",
              "\n",
              "    .dataframe tbody tr th {\n",
              "        vertical-align: top;\n",
              "    }\n",
              "\n",
              "    .dataframe thead th {\n",
              "        text-align: right;\n",
              "    }\n",
              "</style>\n",
              "<table border=\"1\" class=\"dataframe\">\n",
              "  <thead>\n",
              "    <tr style=\"text-align: right;\">\n",
              "      <th></th>\n",
              "      <th>user.id</th>\n",
              "      <th>user.name</th>\n",
              "      <th>user.email</th>\n",
              "    </tr>\n",
              "  </thead>\n",
              "  <tbody>\n",
              "    <tr>\n",
              "      <th>0</th>\n",
              "      <td>1</td>\n",
              "      <td>agus</td>\n",
              "      <td>agus@example.com</td>\n",
              "    </tr>\n",
              "    <tr>\n",
              "      <th>1</th>\n",
              "      <td>1</td>\n",
              "      <td>agus</td>\n",
              "      <td>agus@example.com</td>\n",
              "    </tr>\n",
              "    <tr>\n",
              "      <th>2</th>\n",
              "      <td>1</td>\n",
              "      <td>agus</td>\n",
              "      <td>agus@example.com</td>\n",
              "    </tr>\n",
              "    <tr>\n",
              "      <th>3</th>\n",
              "      <td>2</td>\n",
              "      <td>asep</td>\n",
              "      <td>asep@example.com</td>\n",
              "    </tr>\n",
              "    <tr>\n",
              "      <th>4</th>\n",
              "      <td>2</td>\n",
              "      <td>asep</td>\n",
              "      <td>asep@example.com</td>\n",
              "    </tr>\n",
              "    <tr>\n",
              "      <th>5</th>\n",
              "      <td>2</td>\n",
              "      <td>asep</td>\n",
              "      <td>asep@example.com</td>\n",
              "    </tr>\n",
              "  </tbody>\n",
              "</table>\n",
              "</div>"
            ],
            "text/plain": [
              "  user.id user.name        user.email\n",
              "0       1      agus  agus@example.com\n",
              "1       1      agus  agus@example.com\n",
              "2       1      agus  agus@example.com\n",
              "3       2      asep  asep@example.com\n",
              "4       2      asep  asep@example.com\n",
              "5       2      asep  asep@example.com"
            ]
          },
          "metadata": {
            "tags": []
          },
          "execution_count": 34
        }
      ]
    },
    {
      "cell_type": "code",
      "metadata": {
        "id": "yX7CBkdMxcSw"
      },
      "source": [
        "csv_2_file = csv_2.to_csv('csv_2')"
      ],
      "execution_count": 35,
      "outputs": []
    },
    {
      "cell_type": "code",
      "metadata": {
        "id": "1tHqhK3UxgCr"
      },
      "source": [
        "csv_3 = transaction_list[['id', 'tx_date', 'tx_amount', 'tx_type']]"
      ],
      "execution_count": 36,
      "outputs": []
    },
    {
      "cell_type": "code",
      "metadata": {
        "colab": {
          "base_uri": "https://localhost:8080/",
          "height": 235
        },
        "id": "cZmgA_5-xjbT",
        "outputId": "e7572afb-4fbe-4de0-851d-00e0963a9263"
      },
      "source": [
        "csv_3"
      ],
      "execution_count": 37,
      "outputs": [
        {
          "output_type": "execute_result",
          "data": {
            "text/html": [
              "<div>\n",
              "<style scoped>\n",
              "    .dataframe tbody tr th:only-of-type {\n",
              "        vertical-align: middle;\n",
              "    }\n",
              "\n",
              "    .dataframe tbody tr th {\n",
              "        vertical-align: top;\n",
              "    }\n",
              "\n",
              "    .dataframe thead th {\n",
              "        text-align: right;\n",
              "    }\n",
              "</style>\n",
              "<table border=\"1\" class=\"dataframe\">\n",
              "  <thead>\n",
              "    <tr style=\"text-align: right;\">\n",
              "      <th></th>\n",
              "      <th>id</th>\n",
              "      <th>tx_date</th>\n",
              "      <th>tx_amount</th>\n",
              "      <th>tx_type</th>\n",
              "    </tr>\n",
              "  </thead>\n",
              "  <tbody>\n",
              "    <tr>\n",
              "      <th>0</th>\n",
              "      <td>1</td>\n",
              "      <td>2020-01-01</td>\n",
              "      <td>10</td>\n",
              "      <td>buy</td>\n",
              "    </tr>\n",
              "    <tr>\n",
              "      <th>1</th>\n",
              "      <td>3</td>\n",
              "      <td>2020-02-01</td>\n",
              "      <td>10</td>\n",
              "      <td>buy</td>\n",
              "    </tr>\n",
              "    <tr>\n",
              "      <th>2</th>\n",
              "      <td>5</td>\n",
              "      <td>2020-03-01</td>\n",
              "      <td>20</td>\n",
              "      <td>sell</td>\n",
              "    </tr>\n",
              "    <tr>\n",
              "      <th>3</th>\n",
              "      <td>2</td>\n",
              "      <td>2020-01-01</td>\n",
              "      <td>10</td>\n",
              "      <td>sell</td>\n",
              "    </tr>\n",
              "    <tr>\n",
              "      <th>4</th>\n",
              "      <td>4</td>\n",
              "      <td>2020-02-01</td>\n",
              "      <td>10</td>\n",
              "      <td>sell</td>\n",
              "    </tr>\n",
              "    <tr>\n",
              "      <th>5</th>\n",
              "      <td>6</td>\n",
              "      <td>2020-03-01</td>\n",
              "      <td>20</td>\n",
              "      <td>buy</td>\n",
              "    </tr>\n",
              "  </tbody>\n",
              "</table>\n",
              "</div>"
            ],
            "text/plain": [
              "   id     tx_date  tx_amount tx_type\n",
              "0   1  2020-01-01         10     buy\n",
              "1   3  2020-02-01         10     buy\n",
              "2   5  2020-03-01         20    sell\n",
              "3   2  2020-01-01         10    sell\n",
              "4   4  2020-02-01         10    sell\n",
              "5   6  2020-03-01         20     buy"
            ]
          },
          "metadata": {
            "tags": []
          },
          "execution_count": 37
        }
      ]
    },
    {
      "cell_type": "code",
      "metadata": {
        "id": "8Vp4gGYdxks8"
      },
      "source": [
        "csv_3_file = csv_3.to_csv('csv_3')"
      ],
      "execution_count": 38,
      "outputs": []
    }
  ]
}